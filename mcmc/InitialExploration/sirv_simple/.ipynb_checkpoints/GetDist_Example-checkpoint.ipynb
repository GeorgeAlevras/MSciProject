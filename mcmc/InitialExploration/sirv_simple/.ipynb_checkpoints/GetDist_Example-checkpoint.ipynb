{
 "cells": [
  {
   "cell_type": "code",
   "execution_count": 1,
   "metadata": {},
   "outputs": [
    {
     "name": "stdout",
     "output_type": "stream",
     "text": [
      "GetDist Version: 1.3.3, Matplotlib version: 3.3.1\n"
     ]
    }
   ],
   "source": [
    "import numpy as np\n",
    "%matplotlib inline\n",
    "%config InlineBackend.figure_format = 'retina'\n",
    "from __future__ import print_function\n",
    "import sys, os\n",
    "sys.path.insert(0,os.path.realpath(os.path.join(os.getcwd(),'..')))\n",
    "from getdist import plots, MCSamples, loadMCSamples\n",
    "import getdist, IPython\n",
    "import pylab as plt\n",
    "print('GetDist Version: %s, Matplotlib version: %s'%(getdist.__version__, plt.matplotlib.__version__))\n",
    "#matplotlib 2 doesn't seem to work well without usetex on\n",
    "plt.rcParams['text.usetex']=True\n",
    "#import seaborn as sns\n",
    "#sns.set()\n",
    "\n",
    "import seaborn as sns\n",
    "sns.set()\n",
    "sns.set_style(\"white\")\n",
    "sns.set_context(\"talk\")\n",
    "#sns.set_context(\"poster\")\n",
    "palette = sns.color_palette()\n",
    "\n",
    "#plt.rcParams.update({'font.size': 22})\n",
    "plt.rcParams.update({'lines.linewidth':3})\n",
    "#plt.rcParams.update({'usetex': True})\n",
    "\n",
    "#cp = sns.color_palette()\n",
    "plt.rcParams.update({'font.size': 22})"
   ]
  },
  {
   "cell_type": "code",
   "execution_count": 7,
   "metadata": {},
   "outputs": [],
   "source": [
    "#I just picked out a few examples from\n",
    "#https://getdist.readthedocs.io/en/latest/plot_gallery.html\n",
    "#and adapted to this case"
   ]
  },
  {
   "cell_type": "code",
   "execution_count": 2,
   "metadata": {},
   "outputs": [
    {
     "data": {
      "text/plain": [
       "['./Files/Run_1_burnin_1000_iter_20000/chain_1.txt',\n",
       " './Files/Run_1_burnin_1000_iter_20000/chain_2.txt',\n",
       " './Files/Run_1_burnin_1000_iter_20000/chain_5.txt',\n",
       " './Files/Run_1_burnin_1000_iter_20000/chain_8.txt',\n",
       " './Files/Run_1_burnin_1000_iter_20000/chain_4.txt',\n",
       " './Files/Run_1_burnin_1000_iter_20000/chain_3.txt',\n",
       " './Files/Run_1_burnin_1000_iter_20000/chain_7.txt',\n",
       " './Files/Run_1_burnin_1000_iter_20000/chain_6.txt',\n",
       " './Files/Run_2_burnin_1500_iter_40000/chain_1.txt',\n",
       " './Files/Run_2_burnin_1500_iter_40000/chain_2.txt',\n",
       " './Files/Run_2_burnin_1500_iter_40000/chain_5.txt',\n",
       " './Files/Run_2_burnin_1500_iter_40000/chain_8.txt',\n",
       " './Files/Run_2_burnin_1500_iter_40000/chain_4.txt',\n",
       " './Files/Run_2_burnin_1500_iter_40000/chain_3.txt',\n",
       " './Files/Run_2_burnin_1500_iter_40000/chain_7.txt',\n",
       " './Files/Run_2_burnin_1500_iter_40000/chain_6.txt']"
      ]
     },
     "execution_count": 2,
     "metadata": {},
     "output_type": "execute_result"
    }
   ],
   "source": [
    "import os\n",
    "from glob import glob\n",
    "PATH = './'\n",
    "file_names = [y for x in os.walk(PATH) for y in glob(os.path.join(x[0], 'chain*'))]\n",
    "file_names"
   ]
  },
  {
   "cell_type": "code",
   "execution_count": 3,
   "metadata": {},
   "outputs": [],
   "source": [
    "#Quick convert to add an importance weight column left of -Log(like) column\n",
    "for idx, file in enumerate(file_names):\n",
    "    inChain = np.loadtxt(file,delimiter=',')\n",
    "    nsamps, npar = inChain.shape\n",
    "    outChain = np.zeros((nsamps,npar+1))\n",
    "    outChain[:,1:] = np.copy(inChain)\n",
    "    outChain[:,0] = 1.\n",
    "    np.savetxt('./convert_{}.txt'.format(idx+1),outChain)"
   ]
  },
  {
   "cell_type": "code",
   "execution_count": 4,
   "metadata": {},
   "outputs": [
    {
     "name": "stdout",
     "output_type": "stream",
     "text": [
      "./convert_11.txt\n",
      "./convert_16.txt\n",
      "./convert_6.txt\n",
      "./convert_13.txt\n",
      "./convert_1.txt\n",
      "./convert_7.txt\n",
      "./convert_3.txt\n",
      "./convert_5.txt\n",
      "./convert_9.txt\n",
      "./convert_12.txt\n",
      "./convert_8.txt\n",
      "./convert_2.txt\n",
      "./convert_10.txt\n",
      "./convert_15.txt\n",
      "./convert_14.txt\n",
      "./convert_4.txt\n",
      "Removed 0.3 as burn in\n"
     ]
    }
   ],
   "source": [
    "samples = loadMCSamples('./convert', settings={'ignore_rows':0.3})"
   ]
  },
  {
   "cell_type": "code",
   "execution_count": null,
   "metadata": {},
   "outputs": [
    {
     "name": "stdout",
     "output_type": "stream",
     "text": [
      "Error in callback <function install_repl_displayhook.<locals>.post_execute at 0x7fc22654d310> (for post_execute):\n"
     ]
    }
   ],
   "source": [
    "# 1D marginalized plot\n",
    "g = plots.get_single_plotter(width_inch=6)\n",
    "g.plot_1d(samples, 'p1')"
   ]
  },
  {
   "cell_type": "code",
   "execution_count": null,
   "metadata": {},
   "outputs": [
    {
     "name": "stdout",
     "output_type": "stream",
     "text": [
      "ERROR! Session/line number was not unique in database. History logging moved to new session 20\n",
      "Error in callback <function install_repl_displayhook.<locals>.post_execute at 0x7f0a7b993310> (for post_execute):\n"
     ]
    }
   ],
   "source": [
    "from getdist import plots\n",
    "g = plots.getSinglePlotter()\n",
    "g.plot_2d(samples, ['p1', 'p2'],shaded=True)"
   ]
  },
  {
   "cell_type": "code",
   "execution_count": null,
   "metadata": {},
   "outputs": [],
   "source": [
    "g = plots.getSubplotPlotter(width_inch=8)\n",
    "#g.settings.figure_legend_frame = False\n",
    "g.settings.alpha_filled_add=0.4\n",
    "g.settings.axes_fontsize = 20\n",
    "g.settings.lab_fontsize = 22\n",
    "g.settings.legend_fontsize = 20\n",
    "g.triangle_plot([samples], ['p1', 'p2','p3'], \n",
    "    filled_compare=True, \n",
    "    legend_labels=['Samples'], \n",
    "    legend_loc='upper right', \n",
    "    line_args=[{'ls':'-', 'color':'green'}], \n",
    "    contour_colors=['green'])\n",
    "g.export('Triangle.pdf')"
   ]
  },
  {
   "cell_type": "code",
   "execution_count": null,
   "metadata": {},
   "outputs": [],
   "source": [
    "# Many other things you can do besides plot, e.g. get latex\n",
    "# Default limits are 1: 68%, 2: 95%, 3: 99% probability enclosed\n",
    "# See  https://getdist.readthedocs.io/en/latest/analysis_settings.html\n",
    "# and examples for below for changing analysis settings \n",
    "# (e.g. 2hidh limits, and how they are defined)\n",
    "print(samples.getInlineLatex('p1',limit=2))\n",
    "print(samples.getInlineLatex('p2',limit=2))\n",
    "print(samples.getInlineLatex('p3',limit=2))\n",
    "print(samples.getTable().tableTex())"
   ]
  },
  {
   "cell_type": "code",
   "execution_count": null,
   "metadata": {},
   "outputs": [],
   "source": [
    "print(samples.PCA(['p1','p2','p3']))"
   ]
  },
  {
   "cell_type": "code",
   "execution_count": null,
   "metadata": {},
   "outputs": [],
   "source": [
    "stats = samples.getMargeStats()\n",
    "lims0 = stats.parWithName('p1').limits\n",
    "lims1 = stats.parWithName('p2').limits\n",
    "lims2 = stats.parWithName('p3').limits\n",
    "for conf, lim0, lim1, lim2 in zip(samples.contours,lims0, lims1, lims2):\n",
    "    print('p1 %s%% lower: %.3f upper: %.3f (%s)'%(conf, lim0.lower, lim0.upper, lim0.limitType()))\n",
    "    print('p2 %s%% lower: %.3f upper: %.3f (%s)'%(conf, lim1.lower, lim1.upper, lim1.limitType()))\n",
    "    print('p3 %s%% lower: %.3f upper: %.3f (%s)'%(conf, lim2.lower, lim2.upper, lim2.limitType()))"
   ]
  },
  {
   "cell_type": "code",
   "execution_count": null,
   "metadata": {},
   "outputs": [],
   "source": []
  }
 ],
 "metadata": {
  "kernelspec": {
   "display_name": "Python 3 (ipykernel)",
   "language": "python",
   "name": "python3"
  },
  "language_info": {
   "codemirror_mode": {
    "name": "ipython",
    "version": 3
   },
   "file_extension": ".py",
   "mimetype": "text/x-python",
   "name": "python",
   "nbconvert_exporter": "python",
   "pygments_lexer": "ipython3",
   "version": "3.8.10"
  }
 },
 "nbformat": 4,
 "nbformat_minor": 4
}
